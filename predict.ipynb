{
 "cells": [
  {
   "cell_type": "code",
   "execution_count": 9,
   "metadata": {},
   "outputs": [],
   "source": [
    "import pandas as pd\n",
    "\n",
    "df=pd.read_csv('data/predict_data.csv')\n"
   ]
  },
  {
   "cell_type": "code",
   "execution_count": 10,
   "metadata": {},
   "outputs": [
    {
     "data": {
      "text/html": [
       "<div>\n",
       "<style scoped>\n",
       "    .dataframe tbody tr th:only-of-type {\n",
       "        vertical-align: middle;\n",
       "    }\n",
       "\n",
       "    .dataframe tbody tr th {\n",
       "        vertical-align: top;\n",
       "    }\n",
       "\n",
       "    .dataframe thead th {\n",
       "        text-align: right;\n",
       "    }\n",
       "</style>\n",
       "<table border=\"1\" class=\"dataframe\">\n",
       "  <thead>\n",
       "    <tr style=\"text-align: right;\">\n",
       "      <th></th>\n",
       "      <th>id</th>\n",
       "      <th>title</th>\n",
       "      <th>company_name</th>\n",
       "      <th>location</th>\n",
       "      <th>via</th>\n",
       "      <th>extensions</th>\n",
       "      <th>posted_at</th>\n",
       "      <th>schedule_type</th>\n",
       "      <th>work_from_home</th>\n",
       "      <th>date_time</th>\n",
       "      <th>...</th>\n",
       "      <th>typescript</th>\n",
       "      <th>unix</th>\n",
       "      <th>unix/linux</th>\n",
       "      <th>vb.net</th>\n",
       "      <th>vba</th>\n",
       "      <th>visio</th>\n",
       "      <th>visual_basic</th>\n",
       "      <th>vue</th>\n",
       "      <th>vue.js</th>\n",
       "      <th>word</th>\n",
       "    </tr>\n",
       "  </thead>\n",
       "  <tbody>\n",
       "    <tr>\n",
       "      <th>0</th>\n",
       "      <td>2</td>\n",
       "      <td>Legal Data Analyst</td>\n",
       "      <td>DISYS</td>\n",
       "      <td>United States</td>\n",
       "      <td>via Indeed</td>\n",
       "      <td>['4 hours ago', '21 to 23 an hour', 'Contractor']</td>\n",
       "      <td>4 hours ago</td>\n",
       "      <td>Contractor</td>\n",
       "      <td>False</td>\n",
       "      <td>00:10.1</td>\n",
       "      <td>...</td>\n",
       "      <td>0</td>\n",
       "      <td>0</td>\n",
       "      <td>0</td>\n",
       "      <td>0</td>\n",
       "      <td>0</td>\n",
       "      <td>0</td>\n",
       "      <td>0</td>\n",
       "      <td>0</td>\n",
       "      <td>0</td>\n",
       "      <td>0</td>\n",
       "    </tr>\n",
       "    <tr>\n",
       "      <th>1</th>\n",
       "      <td>11</td>\n",
       "      <td>Lead Data Analyst</td>\n",
       "      <td>Laka &amp; Company</td>\n",
       "      <td>Bentonville, AR</td>\n",
       "      <td>via LinkedIn</td>\n",
       "      <td>['10 hours ago', '100K to 140K a year', 'Full-...</td>\n",
       "      <td>10 hours ago</td>\n",
       "      <td>Full-time</td>\n",
       "      <td>False</td>\n",
       "      <td>00:12.6</td>\n",
       "      <td>...</td>\n",
       "      <td>0</td>\n",
       "      <td>0</td>\n",
       "      <td>0</td>\n",
       "      <td>0</td>\n",
       "      <td>0</td>\n",
       "      <td>0</td>\n",
       "      <td>0</td>\n",
       "      <td>0</td>\n",
       "      <td>0</td>\n",
       "      <td>0</td>\n",
       "    </tr>\n",
       "    <tr>\n",
       "      <th>2</th>\n",
       "      <td>20</td>\n",
       "      <td>Junior Data Analyst</td>\n",
       "      <td>Educated Solutions Corp</td>\n",
       "      <td>United States</td>\n",
       "      <td>via My Stateline Jobs</td>\n",
       "      <td>['8 hours ago', '25 to 26 an hour', 'Full-time...</td>\n",
       "      <td>8 hours ago</td>\n",
       "      <td>Full-time</td>\n",
       "      <td>False</td>\n",
       "      <td>00:14.4</td>\n",
       "      <td>...</td>\n",
       "      <td>0</td>\n",
       "      <td>0</td>\n",
       "      <td>0</td>\n",
       "      <td>0</td>\n",
       "      <td>0</td>\n",
       "      <td>0</td>\n",
       "      <td>0</td>\n",
       "      <td>0</td>\n",
       "      <td>0</td>\n",
       "      <td>1</td>\n",
       "    </tr>\n",
       "    <tr>\n",
       "      <th>3</th>\n",
       "      <td>58</td>\n",
       "      <td>Healthcare Data Analyst</td>\n",
       "      <td>Pediatrics Northwest</td>\n",
       "      <td>United States</td>\n",
       "      <td>via Job</td>\n",
       "      <td>['4 hours ago', '25 an hour', 'Full-time', 'He...</td>\n",
       "      <td>4 hours ago</td>\n",
       "      <td>Full-time</td>\n",
       "      <td>False</td>\n",
       "      <td>00:21.9</td>\n",
       "      <td>...</td>\n",
       "      <td>0</td>\n",
       "      <td>0</td>\n",
       "      <td>0</td>\n",
       "      <td>0</td>\n",
       "      <td>0</td>\n",
       "      <td>0</td>\n",
       "      <td>0</td>\n",
       "      <td>0</td>\n",
       "      <td>0</td>\n",
       "      <td>0</td>\n",
       "    </tr>\n",
       "    <tr>\n",
       "      <th>4</th>\n",
       "      <td>63</td>\n",
       "      <td>Program Management Data Analyst</td>\n",
       "      <td>Citi</td>\n",
       "      <td>United States</td>\n",
       "      <td>via Big Country Jobs</td>\n",
       "      <td>['8 hours ago', '73,570 to 110,350 a year', 'F...</td>\n",
       "      <td>8 hours ago</td>\n",
       "      <td>Full-time</td>\n",
       "      <td>False</td>\n",
       "      <td>00:24.4</td>\n",
       "      <td>...</td>\n",
       "      <td>0</td>\n",
       "      <td>0</td>\n",
       "      <td>0</td>\n",
       "      <td>0</td>\n",
       "      <td>0</td>\n",
       "      <td>0</td>\n",
       "      <td>0</td>\n",
       "      <td>0</td>\n",
       "      <td>0</td>\n",
       "      <td>0</td>\n",
       "    </tr>\n",
       "  </tbody>\n",
       "</table>\n",
       "<p>5 rows × 137 columns</p>\n",
       "</div>"
      ],
      "text/plain": [
       "   id                            title             company_name  \\\n",
       "0   2               Legal Data Analyst                    DISYS   \n",
       "1  11                Lead Data Analyst           Laka & Company   \n",
       "2  20              Junior Data Analyst  Educated Solutions Corp   \n",
       "3  58          Healthcare Data Analyst     Pediatrics Northwest   \n",
       "4  63  Program Management Data Analyst                     Citi   \n",
       "\n",
       "          location                    via  \\\n",
       "0    United States             via Indeed   \n",
       "1  Bentonville, AR           via LinkedIn   \n",
       "2    United States  via My Stateline Jobs   \n",
       "3    United States                via Job   \n",
       "4    United States   via Big Country Jobs   \n",
       "\n",
       "                                          extensions     posted_at  \\\n",
       "0  ['4 hours ago', '21 to 23 an hour', 'Contractor']   4 hours ago   \n",
       "1  ['10 hours ago', '100K to 140K a year', 'Full-...  10 hours ago   \n",
       "2  ['8 hours ago', '25 to 26 an hour', 'Full-time...   8 hours ago   \n",
       "3  ['4 hours ago', '25 an hour', 'Full-time', 'He...   4 hours ago   \n",
       "4  ['8 hours ago', '73,570 to 110,350 a year', 'F...   8 hours ago   \n",
       "\n",
       "  schedule_type  work_from_home date_time  ... typescript unix  unix/linux  \\\n",
       "0    Contractor           False   00:10.1  ...          0    0           0   \n",
       "1     Full-time           False   00:12.6  ...          0    0           0   \n",
       "2     Full-time           False   00:14.4  ...          0    0           0   \n",
       "3     Full-time           False   00:21.9  ...          0    0           0   \n",
       "4     Full-time           False   00:24.4  ...          0    0           0   \n",
       "\n",
       "   vb.net  vba  visio  visual_basic  vue vue.js word  \n",
       "0       0    0      0             0    0      0    0  \n",
       "1       0    0      0             0    0      0    0  \n",
       "2       0    0      0             0    0      0    1  \n",
       "3       0    0      0             0    0      0    0  \n",
       "4       0    0      0             0    0      0    0  \n",
       "\n",
       "[5 rows x 137 columns]"
      ]
     },
     "execution_count": 10,
     "metadata": {},
     "output_type": "execute_result"
    }
   ],
   "source": [
    "df.head()"
   ]
  },
  {
   "cell_type": "code",
   "execution_count": 11,
   "metadata": {},
   "outputs": [
    {
     "data": {
      "text/plain": [
       "Index(['id', 'title', 'company_name', 'location', 'via', 'extensions',\n",
       "       'posted_at', 'schedule_type', 'work_from_home', 'date_time',\n",
       "       ...\n",
       "       'typescript', 'unix', 'unix/linux', 'vb.net', 'vba', 'visio',\n",
       "       'visual_basic', 'vue', 'vue.js', 'word'],\n",
       "      dtype='object', length=137)"
      ]
     },
     "execution_count": 11,
     "metadata": {},
     "output_type": "execute_result"
    }
   ],
   "source": [
    "df.columns"
   ]
  },
  {
   "cell_type": "code",
   "execution_count": 12,
   "metadata": {},
   "outputs": [],
   "source": [
    "\n",
    "\n",
    "from sklearn.linear_model import LinearRegression\n",
    "lin = LinearRegression()\n",
    "\n",
    "from sklearn.model_selection import train_test_split\n"
   ]
  },
  {
   "cell_type": "code",
   "execution_count": 13,
   "metadata": {},
   "outputs": [
    {
     "data": {
      "text/html": [
       "<style>#sk-container-id-2 {color: black;background-color: white;}#sk-container-id-2 pre{padding: 0;}#sk-container-id-2 div.sk-toggleable {background-color: white;}#sk-container-id-2 label.sk-toggleable__label {cursor: pointer;display: block;width: 100%;margin-bottom: 0;padding: 0.3em;box-sizing: border-box;text-align: center;}#sk-container-id-2 label.sk-toggleable__label-arrow:before {content: \"▸\";float: left;margin-right: 0.25em;color: #696969;}#sk-container-id-2 label.sk-toggleable__label-arrow:hover:before {color: black;}#sk-container-id-2 div.sk-estimator:hover label.sk-toggleable__label-arrow:before {color: black;}#sk-container-id-2 div.sk-toggleable__content {max-height: 0;max-width: 0;overflow: hidden;text-align: left;background-color: #f0f8ff;}#sk-container-id-2 div.sk-toggleable__content pre {margin: 0.2em;color: black;border-radius: 0.25em;background-color: #f0f8ff;}#sk-container-id-2 input.sk-toggleable__control:checked~div.sk-toggleable__content {max-height: 200px;max-width: 100%;overflow: auto;}#sk-container-id-2 input.sk-toggleable__control:checked~label.sk-toggleable__label-arrow:before {content: \"▾\";}#sk-container-id-2 div.sk-estimator input.sk-toggleable__control:checked~label.sk-toggleable__label {background-color: #d4ebff;}#sk-container-id-2 div.sk-label input.sk-toggleable__control:checked~label.sk-toggleable__label {background-color: #d4ebff;}#sk-container-id-2 input.sk-hidden--visually {border: 0;clip: rect(1px 1px 1px 1px);clip: rect(1px, 1px, 1px, 1px);height: 1px;margin: -1px;overflow: hidden;padding: 0;position: absolute;width: 1px;}#sk-container-id-2 div.sk-estimator {font-family: monospace;background-color: #f0f8ff;border: 1px dotted black;border-radius: 0.25em;box-sizing: border-box;margin-bottom: 0.5em;}#sk-container-id-2 div.sk-estimator:hover {background-color: #d4ebff;}#sk-container-id-2 div.sk-parallel-item::after {content: \"\";width: 100%;border-bottom: 1px solid gray;flex-grow: 1;}#sk-container-id-2 div.sk-label:hover label.sk-toggleable__label {background-color: #d4ebff;}#sk-container-id-2 div.sk-serial::before {content: \"\";position: absolute;border-left: 1px solid gray;box-sizing: border-box;top: 0;bottom: 0;left: 50%;z-index: 0;}#sk-container-id-2 div.sk-serial {display: flex;flex-direction: column;align-items: center;background-color: white;padding-right: 0.2em;padding-left: 0.2em;position: relative;}#sk-container-id-2 div.sk-item {position: relative;z-index: 1;}#sk-container-id-2 div.sk-parallel {display: flex;align-items: stretch;justify-content: center;background-color: white;position: relative;}#sk-container-id-2 div.sk-item::before, #sk-container-id-2 div.sk-parallel-item::before {content: \"\";position: absolute;border-left: 1px solid gray;box-sizing: border-box;top: 0;bottom: 0;left: 50%;z-index: -1;}#sk-container-id-2 div.sk-parallel-item {display: flex;flex-direction: column;z-index: 1;position: relative;background-color: white;}#sk-container-id-2 div.sk-parallel-item:first-child::after {align-self: flex-end;width: 50%;}#sk-container-id-2 div.sk-parallel-item:last-child::after {align-self: flex-start;width: 50%;}#sk-container-id-2 div.sk-parallel-item:only-child::after {width: 0;}#sk-container-id-2 div.sk-dashed-wrapped {border: 1px dashed gray;margin: 0 0.4em 0.5em 0.4em;box-sizing: border-box;padding-bottom: 0.4em;background-color: white;}#sk-container-id-2 div.sk-label label {font-family: monospace;font-weight: bold;display: inline-block;line-height: 1.2em;}#sk-container-id-2 div.sk-label-container {text-align: center;}#sk-container-id-2 div.sk-container {/* jupyter's `normalize.less` sets `[hidden] { display: none; }` but bootstrap.min.css set `[hidden] { display: none !important; }` so we also need the `!important` here to be able to override the default hidden behavior on the sphinx rendered scikit-learn.org. See: https://github.com/scikit-learn/scikit-learn/issues/21755 */display: inline-block !important;position: relative;}#sk-container-id-2 div.sk-text-repr-fallback {display: none;}</style><div id=\"sk-container-id-2\" class=\"sk-top-container\"><div class=\"sk-text-repr-fallback\"><pre>LinearRegression()</pre><b>In a Jupyter environment, please rerun this cell to show the HTML representation or trust the notebook. <br />On GitHub, the HTML representation is unable to render, please try loading this page with nbviewer.org.</b></div><div class=\"sk-container\" hidden><div class=\"sk-item\"><div class=\"sk-estimator sk-toggleable\"><input class=\"sk-toggleable__control sk-hidden--visually\" id=\"sk-estimator-id-2\" type=\"checkbox\" checked><label for=\"sk-estimator-id-2\" class=\"sk-toggleable__label sk-toggleable__label-arrow\">LinearRegression</label><div class=\"sk-toggleable__content\"><pre>LinearRegression()</pre></div></div></div></div></div>"
      ],
      "text/plain": [
       "LinearRegression()"
      ]
     },
     "execution_count": 13,
     "metadata": {},
     "output_type": "execute_result"
    }
   ],
   "source": [
    "#Create a linear regression model with `standard_salaries` as your dependent variable,\n",
    "#and all listed `description_token_skills` & `work_from_home` as your independent variables.\n",
    "\n",
    "\n",
    "X = df[[\"sql\", \"python\",\"tableau\", \"excel\",\"work_from_home\"]]\n",
    "y=df['salary_standardized']\n",
    "X_train,X_test,y_train,y_test=train_test_split(X,y,test_size=0.2,random_state=25)\n",
    "lin.fit(X_train,y_train)"
   ]
  },
  {
   "cell_type": "code",
   "execution_count": 14,
   "metadata": {},
   "outputs": [],
   "source": [
    "y_pred=lin.predict(X_test)\n"
   ]
  },
  {
   "cell_type": "code",
   "execution_count": 15,
   "metadata": {},
   "outputs": [
    {
     "data": {
      "text/plain": [
       "0.04753259507933305"
      ]
     },
     "execution_count": 15,
     "metadata": {},
     "output_type": "execute_result"
    }
   ],
   "source": [
    "#Print out it's accuracy (R2 value)\n",
    "from sklearn.metrics import r2_score\n",
    "r_squared = r2_score(y_test, y_pred)\n",
    "r_squared"
   ]
  },
  {
   "cell_type": "code",
   "execution_count": 16,
   "metadata": {},
   "outputs": [
    {
     "data": {
      "text/plain": [
       "array([  7394.1171    ,   8204.44190395,   -241.72463839, -10531.00868115,\n",
       "        -4475.06815213])"
      ]
     },
     "execution_count": 16,
     "metadata": {},
     "output_type": "execute_result"
    }
   ],
   "source": [
    "# Print out it's coefficients `lin.coef_`\n",
    "lin.coef_"
   ]
  }
 ],
 "metadata": {
  "kernelspec": {
   "display_name": "Python 3",
   "language": "python",
   "name": "python3"
  },
  "language_info": {
   "codemirror_mode": {
    "name": "ipython",
    "version": 3
   },
   "file_extension": ".py",
   "mimetype": "text/x-python",
   "name": "python",
   "nbconvert_exporter": "python",
   "pygments_lexer": "ipython3",
   "version": "3.10.7"
  },
  "orig_nbformat": 4
 },
 "nbformat": 4,
 "nbformat_minor": 2
}
