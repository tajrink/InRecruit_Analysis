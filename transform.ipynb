{
 "cells": [
  {
   "cell_type": "code",
   "execution_count": 18,
   "metadata": {},
   "outputs": [],
   "source": [
    "import pandas as pd\n",
    "df=pd.read_csv('data/joined_data.csv')"
   ]
  },
  {
   "cell_type": "code",
   "execution_count": 19,
   "metadata": {},
   "outputs": [
    {
     "data": {
      "text/html": [
       "<div>\n",
       "<style scoped>\n",
       "    .dataframe tbody tr th:only-of-type {\n",
       "        vertical-align: middle;\n",
       "    }\n",
       "\n",
       "    .dataframe tbody tr th {\n",
       "        vertical-align: top;\n",
       "    }\n",
       "\n",
       "    .dataframe thead th {\n",
       "        text-align: right;\n",
       "    }\n",
       "</style>\n",
       "<table border=\"1\" class=\"dataframe\">\n",
       "  <thead>\n",
       "    <tr style=\"text-align: right;\">\n",
       "      <th></th>\n",
       "      <th>id</th>\n",
       "      <th>title</th>\n",
       "      <th>company_name</th>\n",
       "      <th>location</th>\n",
       "      <th>via</th>\n",
       "      <th>extensions</th>\n",
       "      <th>posted_at</th>\n",
       "      <th>schedule_type</th>\n",
       "      <th>work_from_home</th>\n",
       "      <th>date_time</th>\n",
       "      <th>salary_pay</th>\n",
       "      <th>salary_rate</th>\n",
       "      <th>salary_avg</th>\n",
       "      <th>salary_min</th>\n",
       "      <th>salary_max</th>\n",
       "      <th>salary_hourly</th>\n",
       "      <th>salary_yearly</th>\n",
       "      <th>salary_standardized</th>\n",
       "      <th>description_tokens</th>\n",
       "    </tr>\n",
       "  </thead>\n",
       "  <tbody>\n",
       "    <tr>\n",
       "      <th>0</th>\n",
       "      <td>0</td>\n",
       "      <td>Data Analyst Technical - Consultant</td>\n",
       "      <td>Intermountain Healthcare</td>\n",
       "      <td>Oklahoma City, OK</td>\n",
       "      <td>via Monster</td>\n",
       "      <td>['19 hours ago', 'Full-time', 'Health insurance']</td>\n",
       "      <td>19 hours ago</td>\n",
       "      <td>Full-time</td>\n",
       "      <td>NaN</td>\n",
       "      <td>00:10.1</td>\n",
       "      <td>NaN</td>\n",
       "      <td>NaN</td>\n",
       "      <td>NaN</td>\n",
       "      <td>NaN</td>\n",
       "      <td>NaN</td>\n",
       "      <td>NaN</td>\n",
       "      <td>NaN</td>\n",
       "      <td>NaN</td>\n",
       "      <td>['vba', 'spreadsheet', 'javascript', 'word', '...</td>\n",
       "    </tr>\n",
       "    <tr>\n",
       "      <th>1</th>\n",
       "      <td>1</td>\n",
       "      <td>Sr Analyst, Data Engineer</td>\n",
       "      <td>Estee Lauder Companies</td>\n",
       "      <td>Oklahoma</td>\n",
       "      <td>via ZipRecruiter</td>\n",
       "      <td>['12 hours ago', 'Full-time']</td>\n",
       "      <td>12 hours ago</td>\n",
       "      <td>Full-time</td>\n",
       "      <td>NaN</td>\n",
       "      <td>00:10.1</td>\n",
       "      <td>NaN</td>\n",
       "      <td>NaN</td>\n",
       "      <td>NaN</td>\n",
       "      <td>NaN</td>\n",
       "      <td>NaN</td>\n",
       "      <td>NaN</td>\n",
       "      <td>NaN</td>\n",
       "      <td>NaN</td>\n",
       "      <td>[]</td>\n",
       "    </tr>\n",
       "    <tr>\n",
       "      <th>2</th>\n",
       "      <td>2</td>\n",
       "      <td>Legal Data Analyst</td>\n",
       "      <td>DISYS</td>\n",
       "      <td>United States</td>\n",
       "      <td>via Indeed</td>\n",
       "      <td>['4 hours ago', '21 to 23 an hour', 'Contractor']</td>\n",
       "      <td>4 hours ago</td>\n",
       "      <td>Contractor</td>\n",
       "      <td>NaN</td>\n",
       "      <td>00:10.1</td>\n",
       "      <td>21 to 23</td>\n",
       "      <td>an hour</td>\n",
       "      <td>22.0</td>\n",
       "      <td>21.0</td>\n",
       "      <td>23.0</td>\n",
       "      <td>22.0</td>\n",
       "      <td>NaN</td>\n",
       "      <td>45760.0</td>\n",
       "      <td>[]</td>\n",
       "    </tr>\n",
       "    <tr>\n",
       "      <th>3</th>\n",
       "      <td>3</td>\n",
       "      <td>Data analyst</td>\n",
       "      <td>Modis</td>\n",
       "      <td>United States</td>\n",
       "      <td>via BeBee</td>\n",
       "      <td>['13 hours ago', 'No degree mentioned']</td>\n",
       "      <td>13 hours ago</td>\n",
       "      <td>NaN</td>\n",
       "      <td>NaN</td>\n",
       "      <td>00:10.1</td>\n",
       "      <td>NaN</td>\n",
       "      <td>NaN</td>\n",
       "      <td>NaN</td>\n",
       "      <td>NaN</td>\n",
       "      <td>NaN</td>\n",
       "      <td>NaN</td>\n",
       "      <td>NaN</td>\n",
       "      <td>NaN</td>\n",
       "      <td>[]</td>\n",
       "    </tr>\n",
       "    <tr>\n",
       "      <th>4</th>\n",
       "      <td>4</td>\n",
       "      <td>Data Analyst (Risk Adjustment Consulting Resea...</td>\n",
       "      <td>Cambia Health Solutions</td>\n",
       "      <td>United States</td>\n",
       "      <td>via LinkedIn</td>\n",
       "      <td>['23 hours ago', 'Full-time', 'Health insuranc...</td>\n",
       "      <td>23 hours ago</td>\n",
       "      <td>Full-time</td>\n",
       "      <td>NaN</td>\n",
       "      <td>00:10.1</td>\n",
       "      <td>NaN</td>\n",
       "      <td>NaN</td>\n",
       "      <td>NaN</td>\n",
       "      <td>NaN</td>\n",
       "      <td>NaN</td>\n",
       "      <td>NaN</td>\n",
       "      <td>NaN</td>\n",
       "      <td>NaN</td>\n",
       "      <td>['sas', 'matlab', 'sql', 'spss', 'r']</td>\n",
       "    </tr>\n",
       "  </tbody>\n",
       "</table>\n",
       "</div>"
      ],
      "text/plain": [
       "   id                                              title  \\\n",
       "0   0                Data Analyst Technical - Consultant   \n",
       "1   1                          Sr Analyst, Data Engineer   \n",
       "2   2                                 Legal Data Analyst   \n",
       "3   3                                       Data analyst   \n",
       "4   4  Data Analyst (Risk Adjustment Consulting Resea...   \n",
       "\n",
       "               company_name           location               via  \\\n",
       "0  Intermountain Healthcare  Oklahoma City, OK       via Monster   \n",
       "1    Estee Lauder Companies           Oklahoma  via ZipRecruiter   \n",
       "2                     DISYS      United States        via Indeed   \n",
       "3                     Modis      United States         via BeBee   \n",
       "4   Cambia Health Solutions      United States      via LinkedIn   \n",
       "\n",
       "                                          extensions     posted_at  \\\n",
       "0  ['19 hours ago', 'Full-time', 'Health insurance']  19 hours ago   \n",
       "1                      ['12 hours ago', 'Full-time']  12 hours ago   \n",
       "2  ['4 hours ago', '21 to 23 an hour', 'Contractor']   4 hours ago   \n",
       "3            ['13 hours ago', 'No degree mentioned']  13 hours ago   \n",
       "4  ['23 hours ago', 'Full-time', 'Health insuranc...  23 hours ago   \n",
       "\n",
       "  schedule_type work_from_home date_time salary_pay salary_rate  salary_avg  \\\n",
       "0     Full-time            NaN   00:10.1        NaN         NaN         NaN   \n",
       "1     Full-time            NaN   00:10.1        NaN         NaN         NaN   \n",
       "2    Contractor            NaN   00:10.1   21 to 23     an hour        22.0   \n",
       "3           NaN            NaN   00:10.1        NaN         NaN         NaN   \n",
       "4     Full-time            NaN   00:10.1        NaN         NaN         NaN   \n",
       "\n",
       "   salary_min  salary_max  salary_hourly  salary_yearly  salary_standardized  \\\n",
       "0         NaN         NaN            NaN            NaN                  NaN   \n",
       "1         NaN         NaN            NaN            NaN                  NaN   \n",
       "2        21.0        23.0           22.0            NaN              45760.0   \n",
       "3         NaN         NaN            NaN            NaN                  NaN   \n",
       "4         NaN         NaN            NaN            NaN                  NaN   \n",
       "\n",
       "                                  description_tokens  \n",
       "0  ['vba', 'spreadsheet', 'javascript', 'word', '...  \n",
       "1                                                 []  \n",
       "2                                                 []  \n",
       "3                                                 []  \n",
       "4              ['sas', 'matlab', 'sql', 'spss', 'r']  "
      ]
     },
     "execution_count": 19,
     "metadata": {},
     "output_type": "execute_result"
    }
   ],
   "source": [
    "df.head()"
   ]
  },
  {
   "cell_type": "code",
   "execution_count": 20,
   "metadata": {},
   "outputs": [
    {
     "data": {
      "text/plain": [
       "Index(['id', 'title', 'company_name', 'location', 'via', 'extensions',\n",
       "       'posted_at', 'schedule_type', 'work_from_home', 'date_time',\n",
       "       'salary_pay', 'salary_rate', 'salary_avg', 'salary_min', 'salary_max',\n",
       "       'salary_hourly', 'salary_yearly', 'salary_standardized',\n",
       "       'description_tokens'],\n",
       "      dtype='object')"
      ]
     },
     "execution_count": 20,
     "metadata": {},
     "output_type": "execute_result"
    }
   ],
   "source": [
    "df.columns"
   ]
  },
  {
   "cell_type": "code",
   "execution_count": 21,
   "metadata": {},
   "outputs": [
    {
     "data": {
      "text/plain": [
       "id                         0\n",
       "title                      0\n",
       "company_name               0\n",
       "location                  11\n",
       "via                        0\n",
       "extensions                 0\n",
       "posted_at                  0\n",
       "schedule_type             40\n",
       "work_from_home          5999\n",
       "date_time                  0\n",
       "salary_pay              8977\n",
       "salary_rate             8977\n",
       "salary_avg              8977\n",
       "salary_min              9109\n",
       "salary_max              9109\n",
       "salary_hourly          10023\n",
       "salary_yearly          10165\n",
       "salary_standardized     8977\n",
       "description_tokens         0\n",
       "dtype: int64"
      ]
     },
     "execution_count": 21,
     "metadata": {},
     "output_type": "execute_result"
    }
   ],
   "source": [
    "df.isnull().sum()"
   ]
  },
  {
   "cell_type": "code",
   "execution_count": 22,
   "metadata": {},
   "outputs": [
    {
     "name": "stdout",
     "output_type": "stream",
     "text": [
      "<class 'pandas.core.frame.DataFrame'>\n",
      "RangeIndex: 11206 entries, 0 to 11205\n",
      "Data columns (total 19 columns):\n",
      " #   Column               Non-Null Count  Dtype  \n",
      "---  ------               --------------  -----  \n",
      " 0   id                   11206 non-null  int64  \n",
      " 1   title                11206 non-null  object \n",
      " 2   company_name         11206 non-null  object \n",
      " 3   location             11195 non-null  object \n",
      " 4   via                  11206 non-null  object \n",
      " 5   extensions           11206 non-null  object \n",
      " 6   posted_at            11206 non-null  object \n",
      " 7   schedule_type        11166 non-null  object \n",
      " 8   work_from_home       5207 non-null   object \n",
      " 9   date_time            11206 non-null  object \n",
      " 10  salary_pay           2229 non-null   object \n",
      " 11  salary_rate          2229 non-null   object \n",
      " 12  salary_avg           2229 non-null   float64\n",
      " 13  salary_min           2097 non-null   float64\n",
      " 14  salary_max           2097 non-null   float64\n",
      " 15  salary_hourly        1183 non-null   float64\n",
      " 16  salary_yearly        1041 non-null   float64\n",
      " 17  salary_standardized  2229 non-null   float64\n",
      " 18  description_tokens   11206 non-null  object \n",
      "dtypes: float64(6), int64(1), object(12)\n",
      "memory usage: 1.6+ MB\n"
     ]
    }
   ],
   "source": [
    "df.info()"
   ]
  },
  {
   "cell_type": "code",
   "execution_count": 23,
   "metadata": {},
   "outputs": [
    {
     "data": {
      "text/plain": [
       "(11206, 19)"
      ]
     },
     "execution_count": 23,
     "metadata": {},
     "output_type": "execute_result"
    }
   ],
   "source": [
    "df.shape"
   ]
  },
  {
   "cell_type": "code",
   "execution_count": 24,
   "metadata": {},
   "outputs": [],
   "source": [
    "\n",
    "df['work_from_home'].fillna(value='False',inplace=True)"
   ]
  },
  {
   "cell_type": "code",
   "execution_count": 25,
   "metadata": {},
   "outputs": [
    {
     "data": {
      "text/plain": [
       "False    5999\n",
       "True     5207\n",
       "Name: work_from_home, dtype: int64"
      ]
     },
     "execution_count": 25,
     "metadata": {},
     "output_type": "execute_result"
    }
   ],
   "source": [
    "df['work_from_home'].value_counts()"
   ]
  },
  {
   "cell_type": "code",
   "execution_count": 26,
   "metadata": {},
   "outputs": [
    {
     "data": {
      "text/plain": [
       "[]                                                                                          2200\n",
       "['excel']                                                                                    436\n",
       "['sql']                                                                                      399\n",
       "['jira', 'tableau', 'microstrategy', 'sql']                                                  204\n",
       "['excel', 'sql']                                                                             186\n",
       "                                                                                            ... \n",
       "['gcp', 'looker', 'sql', 'snowflake']                                                          1\n",
       "['tableau', 'bigquery', 'sql', 'mssql', 'python']                                              1\n",
       "['tableau', 'outlook', 'sas', 'sql', 'r', 'python']                                            1\n",
       "['excel', 'sas', 'cognos', 'visual_basic', 'spss']                                             1\n",
       "['tableau', 'sharepoint', 'sas', 'snowflake', 'azure', 'sql', 'power_bi', 'r', 'python']       1\n",
       "Name: description_tokens, Length: 2721, dtype: int64"
      ]
     },
     "execution_count": 26,
     "metadata": {},
     "output_type": "execute_result"
    }
   ],
   "source": [
    "df['description_tokens'].value_counts()"
   ]
  },
  {
   "cell_type": "code",
   "execution_count": 27,
   "metadata": {},
   "outputs": [],
   "source": [
    "from ast import literal_eval\n",
    "df[\"new_tokens\"] = df[\"description_tokens\"].apply(literal_eval)"
   ]
  },
  {
   "cell_type": "code",
   "execution_count": 28,
   "metadata": {},
   "outputs": [],
   "source": [
    "from sklearn.preprocessing import MultiLabelBinarizer\n",
    "mlb = MultiLabelBinarizer()"
   ]
  },
  {
   "cell_type": "code",
   "execution_count": 29,
   "metadata": {},
   "outputs": [],
   "source": [
    "encoding = mlb.fit_transform(df[\"new_tokens\"].tolist())"
   ]
  },
  {
   "cell_type": "code",
   "execution_count": 30,
   "metadata": {},
   "outputs": [],
   "source": [
    "encoding_df = pd.DataFrame(encoding, columns=mlb.classes_, index=df.index)"
   ]
  },
  {
   "cell_type": "code",
   "execution_count": 31,
   "metadata": {},
   "outputs": [],
   "source": [
    "eda_df=df.join(encoding_df)"
   ]
  },
  {
   "cell_type": "code",
   "execution_count": 32,
   "metadata": {},
   "outputs": [],
   "source": [
    "eda_df.to_csv(\"data/eda_data.csv\",index=False)"
   ]
  },
  {
   "cell_type": "code",
   "execution_count": 33,
   "metadata": {},
   "outputs": [],
   "source": [
    "#new dataframe?\n",
    "eda_df.dropna(subset='salary_standardized',inplace=True)"
   ]
  },
  {
   "cell_type": "code",
   "execution_count": 34,
   "metadata": {},
   "outputs": [
    {
     "data": {
      "text/plain": [
       "(2229, 137)"
      ]
     },
     "execution_count": 34,
     "metadata": {},
     "output_type": "execute_result"
    }
   ],
   "source": [
    "eda_df.shape"
   ]
  },
  {
   "cell_type": "code",
   "execution_count": 35,
   "metadata": {},
   "outputs": [],
   "source": [
    "eda_df.to_csv(\"data/predict_data.csv\",index=False)"
   ]
  },
  {
   "cell_type": "code",
   "execution_count": null,
   "metadata": {},
   "outputs": [],
   "source": []
  }
 ],
 "metadata": {
  "kernelspec": {
   "display_name": "Python 3",
   "language": "python",
   "name": "python3"
  },
  "language_info": {
   "codemirror_mode": {
    "name": "ipython",
    "version": 3
   },
   "file_extension": ".py",
   "mimetype": "text/x-python",
   "name": "python",
   "nbconvert_exporter": "python",
   "pygments_lexer": "ipython3",
   "version": "3.10.7"
  },
  "orig_nbformat": 4
 },
 "nbformat": 4,
 "nbformat_minor": 2
}
